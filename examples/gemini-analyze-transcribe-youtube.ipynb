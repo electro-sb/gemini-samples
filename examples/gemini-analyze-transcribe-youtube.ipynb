{
 "cells": [
  {
   "cell_type": "markdown",
   "metadata": {},
   "source": [
    "# Google Gemini 2.5 Pro for Podcast and YouTube Understanding & Transcription\n",
    "\n",
    "Gemini **2.5 Pro** significantly enhances video and audio understanding through its advanced reasoning and exceptionally large context window (up to 1 million tokens). This massive capacity allows it to process substantial inputs, enabling tasks like analyzing a 30-minute video (which consumes roughly 500k tokens including audio and sampled frames) or transcribing hours of audio content in a single pass.\n",
    "\n",
    "**Audio & Podcast Transcription:**\n",
    "\n",
    "*   Generates precise transcripts with second-level [MM:SS] timestamps, automatic speaker identification (diarization), and detection/labeling of audio events like background music (even identifying specific songs), sound effects (e.g., bells), and named jingles.\n",
    "*   15 minute audio equalls to roughly 8k output token. Leading to a total single request transcription of ~2h. As Gemini 2.5 Pro has now a 64k context output\n",
    "*   Its 1 million token context window capably handles extensive recordings, processing hours of audio content seamlessly.\n",
    "\n",
    "**YouTube Video Understanding & Interaction:**\n",
    "\n",
    "*   Public YouTube URLs directly via the API and AI Studio, analyzing both the audio track and visual frames (sampled at ~1 frame per second).\n",
    "*   Ask Gemini **2.5 Pro** to summarize, answer specific questions, translate spoken content, transcribe audio, or provide visual descriptions. Interact with specific moments using `MM:SS` timestamps in prompts (e.g., `\"What examples are given at 01:05?\"`) and request combined outputs like transcriptions alongside visual descriptions in one go.\n",
    "*   Supports public videos only (no private or unlisted), daily processing limit: 8 hours of YouTube video content, one video URL per API request.\n",
    "\n",
    "**Learn More & Get Started:**\n",
    "\n",
    "Explore the documentation to implement these features with **Gemini 2.5 Pro**:\n",
    "\n",
    "*   **Working with Audio Files:** [https://ai.google.dev/gemini-api/docs/audio?lang=python](https://ai.google.dev/gemini-api/docs/audio?lang=python)\n",
    "*   **Working with Video (including YouTube URLs):** [https://ai.google.dev/gemini-api/docs/vision?lang=python#youtube](https://ai.google.dev/gemini-api/docs/vision?lang=python#youtube)\n"
   ]
  },
  {
   "cell_type": "code",
   "execution_count": null,
   "metadata": {},
   "outputs": [],
   "source": [
    "%pip install google-genai jinja2"
   ]
  },
  {
   "cell_type": "code",
   "execution_count": 1,
   "metadata": {},
   "outputs": [],
   "source": [
    "import os\n",
    "from google import genai\n",
    "\n",
    "\n",
    "client = genai.Client()  "
   ]
  },
  {
   "cell_type": "markdown",
   "metadata": {},
   "source": [
    "## Podcast Example\n"
   ]
  },
  {
   "cell_type": "code",
   "execution_count": 2,
   "metadata": {},
   "outputs": [
    {
     "name": "stdout",
     "output_type": "stream",
     "text": [
      "[00:00] John: If the Porsche Macan has proven anything,\n",
      "[00:02] John: it's that the days of sacrificing performance for practicality are gone.\n",
      "[00:06] John: Long gone.\n",
      "[00:08] John: Engineered to deliver a driving experience like no other,\n",
      "[00:11] John: the Macan has demonstrated excellence in style and performance\n",
      "[00:14] John: to become the leading sports car in its class.\n",
      "[00:17] John: So don't let those five doors fool you.\n",
      "[00:19] John: Once you're in the driver's seat,\n",
      "[00:20] John: one thing will become immediately clear.\n",
      "[00:23] [Car engine roaring]\n",
      "[00:24] John: This is a Porsche.\n",
      "[00:25] John: The Macan.\n",
      "[00:26] John: Now leasing from 3.99%.\n",
      "[00:29] John: Conditions apply.\n",
      "[00:30] [Dial-up modem sound]\n",
      "[00:32] [END]\n"
     ]
    }
   ],
   "source": [
    "from jinja2 import Template\n",
    "\n",
    "\n",
    "# path to the file to upload\n",
    "file_path = \"../assets/porsche.mp3\" # Repalce with your own file path\n",
    "\n",
    "# Upload the file to the File API\n",
    "file = client.files.upload(file=file_path)\n",
    "\n",
    "# Generate a structured response using the Gemini API\n",
    "prompt_template = Template(\"\"\"Generate a transcript of the episode. Include timestamps and identify speakers.\n",
    "\n",
    "Speakers are: \n",
    "{% for speaker in speakers %}- {{ speaker }}{% if not loop.last %}\\n{% endif %}{% endfor %}\n",
    "\n",
    "eg:\n",
    "[00:00] Brady: Hello there.\n",
    "[00:02] Tim: Hi Brady.\n",
    "\n",
    "It is important to include the correct speaker names. Use the names you identified earlier. If you really don't know the speaker's name, identify them with a letter of the alphabet, eg there may be an unknown speaker 'A' and another unknown speaker 'B'.\n",
    "\n",
    "If there is music or a short jingle playing, signify like so:\n",
    "[01:02] [MUSIC] or [01:02] [JINGLE]\n",
    "\n",
    "If you can identify the name of the music or jingle playing then use that instead, eg:\n",
    "[01:02] [Firework by Katy Perry] or [01:02] [The Sofa Shop jingle]\n",
    "\n",
    "If there is some other sound playing try to identify the sound, eg:\n",
    "[01:02] [Bell ringing]\n",
    "\n",
    "Each individual caption should be quite short, a few short sentences at most.\n",
    "\n",
    "Signify the end of the episode with [END].\n",
    "\n",
    "Don't use any markdown formatting, like bolding or italics.\n",
    "\n",
    "Only use characters from the English alphabet, unless you genuinely believe foreign characters are correct.\n",
    "\n",
    "It is important that you use the correct words and spell everything correctly. Use the context of the podcast to help.\n",
    "If the hosts discuss something like a movie, book or celebrity, make sure the movie, book, or celebrity name is spelled correctly.\"\"\")\n",
    "\n",
    "# Define the speakers and render the prompt\n",
    "speakers = [\"John\"]\n",
    "prompt = prompt_template.render(speakers=speakers)\n",
    "\n",
    "response = client.models.generate_content(\n",
    "    model=\"gemini-2.5-pro\",\n",
    "    contents=[prompt, file],\n",
    ")\n",
    "\n",
    "print(response.text)"
   ]
  },
  {
   "cell_type": "markdown",
   "metadata": {},
   "source": [
    "## Youtube Example\n"
   ]
  },
  {
   "cell_type": "code",
   "execution_count": 3,
   "metadata": {},
   "outputs": [
    {
     "name": "stdout",
     "output_type": "stream",
     "text": [
      "Based on the provided video content, here is a concise analysis:\n",
      "\n",
      "### 1. Main Thesis/Claim\n",
      "The creator argues that Google's Gemini 2.5 Pro is the best AI for *pure coding* he has ever used. While it struggles with front-end UI generation from images or high-level descriptions, its ability to handle complex logic, refactor code, and build functional applications from detailed prompts is superior to other models.\n",
      "\n",
      "### 2. Key Topics\n",
      "*   **AI Model Tested:** Google Gemini 2.5 Pro (Experimental 03-25 version).\n",
      "*   **Coding Challenges & Projects:**\n",
      "    *   **Ultimate Tic-Tac-Toe:** Created a fully functional game in **Java** using the **Swing** library with a single, detailed prompt.\n",
      "    *   **\"Kitten Cannon\" Clone:** Generated a launch-style game using **p5.js**. The initial code had bugs, but the model successfully debugged and fixed them over two additional prompts.\n",
      "    *   **Landing Page from Mockup:** Attempted to build a landing page using **React, Vite, and Tailwind CSS** based on a mockup image. This task was largely unsuccessful.\n",
      "    *   **X (Twitter) UI Clone:** Recreated a static version of the X UI using **HTML** and **CSS**. The result was a decent visual representation but lacked functionality.\n",
      "    *   **Rust Code Refactoring:** The model successfully refactored the creator's inefficient **Rust** code, replacing `for` loops with more idiomatic iterator methods, which the creator deemed an impressive and highly effective result.\n",
      "*   **AI Model Comparison:** The video includes benchmark charts comparing Gemini 2.5 Pro to models like **OpenAI o3-mini**, **GPT-4.5**, **Claude 3.7 Sonnet**, and **Grok 3 Beta** on tasks like code generation, code editing, and agentic coding.\n",
      "*   **Knowledge Cutoff:** The creator briefly tested the model's knowledge of the current **React.js** version, noting it needed to use its \"Grounding with Google Search\" feature to provide the most up-to-date information.\n",
      "\n",
      "### 3. Call to Action\n",
      "The creator explicitly asks viewers to:\n",
      "1.  Share their own thoughts and experiences with Gemini 2.5 Pro in the comments.\n",
      "2.  Subscribe to the channel and like the video.\n",
      "\n",
      "### 4. Summary\n",
      "The video is a hands-on review of Google's new AI model, Gemini 2.5 Pro, focusing on its coding capabilities. The creator puts the model through a series of tests, from creating complete games like Ultimate Tic-Tac-Toe in Java to refactoring complex Rust code. He finds that Gemini 2.5 Pro excels at logic-heavy tasks and code optimization, successfully building a complex game in one attempt and providing superior code refactoring compared to other models. However, it performs poorly when asked to generate front-end UIs from visual mockups. The creator concludes that while not a perfect all-rounder, Gemini 2.5 Pro is an exceptionally powerful and impressive tool for pure programming tasks.\n"
     ]
    }
   ],
   "source": [
    "from google.genai import types\n",
    "\n",
    "youtube_url = \"https://www.youtube.com/watch?v=RDOMKIw1aF4\" # Repalce with the youtube url you want to analyze\n",
    "\n",
    "prompt = \"\"\"Analyze the following YouTube video content. Provide a concise summary covering:\n",
    "\n",
    "1.  **Main Thesis/Claim:** What is the central point the creator is making?\n",
    "2.  **Key Topics:** List the main subjects discussed, referencing specific examples or technologies mentioned (e.g., AI models, programming languages, projects).\n",
    "3.  **Call to Action:** Identify any explicit requests made to the viewer.\n",
    "4.  **Summary:** Provide a concise summary of the video content.\n",
    "\n",
    "Use the provided title, chapter timestamps/descriptions, and description text for your analysis.\"\"\"\n",
    "\n",
    "# Analyze the video\n",
    "response = client.models.generate_content(\n",
    "    model=\"gemini-2.5-pro\",\n",
    "    contents=types.Content(\n",
    "        parts=[\n",
    "            types.Part(text=prompt),\n",
    "            types.Part(\n",
    "                file_data=types.FileData(file_uri=youtube_url)\n",
    "            )\n",
    "        ]\n",
    "    )\n",
    ")\n",
    "\n",
    "print(response.text)"
   ]
  },
  {
   "cell_type": "code",
   "execution_count": null,
   "metadata": {},
   "outputs": [],
   "source": []
  }
 ],
 "metadata": {
  "kernelspec": {
   "display_name": ".venv",
   "language": "python",
   "name": "python3"
  },
  "language_info": {
   "codemirror_mode": {
    "name": "ipython",
    "version": 3
   },
   "file_extension": ".py",
   "mimetype": "text/x-python",
   "name": "python",
   "nbconvert_exporter": "python",
   "pygments_lexer": "ipython3",
   "version": "3.13.2"
  }
 },
 "nbformat": 4,
 "nbformat_minor": 2
}
