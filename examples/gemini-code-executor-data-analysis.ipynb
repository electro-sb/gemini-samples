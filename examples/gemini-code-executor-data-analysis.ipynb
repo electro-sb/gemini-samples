{
 "cells": [
  {
   "cell_type": "markdown",
   "metadata": {},
   "source": [
    "# Google Gemini 2.5 for Data Analysis using CSV files and Code Execution\n",
    "\n",
    "This notebook demonstrates how to leverage the Google Gemini 2.5 model with its code execution capabilities for data analysis tasks directly on CSV files. Similar to the concept of the [Data Science Agent in Colab](https://developers.googleblog.com/en/data-science-agent-in-colab-with-gemini/), Gemini can understand natural language prompts, generate and execute Python code for data loading, transformation, analysis, and visualization, streamlining data analysis workflows.\n",
    "\n",
    "This example focuses on using the Gemini API with the `code_execution` tool to interact with a CSV file based on defined tasks. Learn more about it:\n",
    "- code_execution tool: https://ai.google.dev/gemini-api/docs/code-execution?lang=python\n",
    "- Data Science Agent in Colab: [https://developers.googleblog.com/en/data-science-agent-in-colab-with-gemini/](https://developers.googleblog.com/en/data-science-agent-in-colab-with-gemini/)\n",
    "- file upload: https://ai.google.dev/gemini-api/docs/image-understanding#upload-image\n",
    "\n",
    "The notebooks includes 3 examples for:\n",
    "- Data Manipulation & Calculation: Calculate the total value of each transaction, accounting for commissions.\n",
    "- Calculation & Aggregation: Determine overall cash flow and total costs from trading activities.\n",
    "- Data Visualization: Visualize the trading volume (shares bought vs. sold) for each stock"
   ]
  },
  {
   "cell_type": "code",
   "execution_count": null,
   "metadata": {},
   "outputs": [],
   "source": [
    "%pip install google-genai pandas "
   ]
  },
  {
   "cell_type": "code",
   "execution_count": 1,
   "metadata": {},
   "outputs": [],
   "source": [
    "from google import genai\n",
    "\n",
    "# create client\n",
    "client = genai.Client()\n",
    "\n",
    "# path to the file to upload\n",
    "csv_file_path = \"../assets/portfolio_transactions.csv\" # Repalce with your own file path\n",
    "\n",
    "# Upload the file to the File API\n",
    "file = client.files.upload(file=csv_file_path)"
   ]
  },
  {
   "cell_type": "markdown",
   "metadata": {},
   "source": [
    "## Data Manipulation & Calculation:\n",
    "\n",
    "Goal: Calculate the total value of each transaction, accounting for commissions."
   ]
  },
  {
   "cell_type": "code",
   "execution_count": 2,
   "metadata": {},
   "outputs": [],
   "source": [
    "prompt =  \"\"\"Add a 'TotalValue' column. For 'BUY' actions, calculate it as (Quantity * PricePerShare) + Commission. For 'SELL' actions, calculate it as (Quantity * PricePerShare) - Commission. \n",
    "Return a helpful message and the return as a csv file.\"\"\"\n",
    "\n",
    "# Generate the response\n",
    "response = client.models.generate_content(\n",
    "    model=\"gemini-2.5-flash\",\n",
    "    contents=[file, prompt],\n",
    "    config={\"tools\": [{\"code_execution\": {}}]},\n",
    ")"
   ]
  },
  {
   "cell_type": "markdown",
   "metadata": {},
   "source": [
    "parse the response and the return the csv file (as part of `inline_data`)"
   ]
  },
  {
   "cell_type": "code",
   "execution_count": 3,
   "metadata": {},
   "outputs": [
    {
     "data": {
      "text/markdown": [
       "CSV file saved to response.csv"
      ],
      "text/plain": [
       "<IPython.core.display.Markdown object>"
      ]
     },
     "metadata": {},
     "output_type": "display_data"
    },
    {
     "data": {
      "text/markdown": [
       "Preview of the first few rows of the CSV file:"
      ],
      "text/plain": [
       "<IPython.core.display.Markdown object>"
      ]
     },
     "metadata": {},
     "output_type": "display_data"
    },
    {
     "data": {
      "text/html": [
       "<div>\n",
       "<style scoped>\n",
       "    .dataframe tbody tr th:only-of-type {\n",
       "        vertical-align: middle;\n",
       "    }\n",
       "\n",
       "    .dataframe tbody tr th {\n",
       "        vertical-align: top;\n",
       "    }\n",
       "\n",
       "    .dataframe thead th {\n",
       "        text-align: right;\n",
       "    }\n",
       "</style>\n",
       "<table border=\"1\" class=\"dataframe\">\n",
       "  <thead>\n",
       "    <tr style=\"text-align: right;\">\n",
       "      <th></th>\n",
       "      <th>TransactionID</th>\n",
       "      <th>Date</th>\n",
       "      <th>Ticker</th>\n",
       "      <th>Action</th>\n",
       "      <th>Quantity</th>\n",
       "      <th>PricePerShare</th>\n",
       "      <th>Commission</th>\n",
       "      <th>TotalValue</th>\n",
       "    </tr>\n",
       "  </thead>\n",
       "  <tbody>\n",
       "    <tr>\n",
       "      <th>0</th>\n",
       "      <td>1</td>\n",
       "      <td>2023-01-15</td>\n",
       "      <td>GOOG</td>\n",
       "      <td>BUY</td>\n",
       "      <td>10</td>\n",
       "      <td>95.50</td>\n",
       "      <td>5.0</td>\n",
       "      <td>960.00</td>\n",
       "    </tr>\n",
       "    <tr>\n",
       "      <th>1</th>\n",
       "      <td>2</td>\n",
       "      <td>2023-02-10</td>\n",
       "      <td>AAPL</td>\n",
       "      <td>BUY</td>\n",
       "      <td>20</td>\n",
       "      <td>150.25</td>\n",
       "      <td>5.0</td>\n",
       "      <td>3010.00</td>\n",
       "    </tr>\n",
       "    <tr>\n",
       "      <th>2</th>\n",
       "      <td>3</td>\n",
       "      <td>2023-03-05</td>\n",
       "      <td>MSFT</td>\n",
       "      <td>BUY</td>\n",
       "      <td>15</td>\n",
       "      <td>280.75</td>\n",
       "      <td>5.0</td>\n",
       "      <td>4216.25</td>\n",
       "    </tr>\n",
       "    <tr>\n",
       "      <th>3</th>\n",
       "      <td>4</td>\n",
       "      <td>2023-04-20</td>\n",
       "      <td>GOOG</td>\n",
       "      <td>SELL</td>\n",
       "      <td>5</td>\n",
       "      <td>105.00</td>\n",
       "      <td>5.0</td>\n",
       "      <td>520.00</td>\n",
       "    </tr>\n",
       "    <tr>\n",
       "      <th>4</th>\n",
       "      <td>5</td>\n",
       "      <td>2023-05-12</td>\n",
       "      <td>TSLA</td>\n",
       "      <td>BUY</td>\n",
       "      <td>8</td>\n",
       "      <td>180.00</td>\n",
       "      <td>5.0</td>\n",
       "      <td>1445.00</td>\n",
       "    </tr>\n",
       "  </tbody>\n",
       "</table>\n",
       "</div>"
      ],
      "text/plain": [
       "   TransactionID        Date Ticker Action  Quantity  PricePerShare  \\\n",
       "0              1  2023-01-15   GOOG    BUY        10          95.50   \n",
       "1              2  2023-02-10   AAPL    BUY        20         150.25   \n",
       "2              3  2023-03-05   MSFT    BUY        15         280.75   \n",
       "3              4  2023-04-20   GOOG   SELL         5         105.00   \n",
       "4              5  2023-05-12   TSLA    BUY         8         180.00   \n",
       "\n",
       "   Commission  TotalValue  \n",
       "0         5.0      960.00  \n",
       "1         5.0     3010.00  \n",
       "2         5.0     4216.25  \n",
       "3         5.0      520.00  \n",
       "4         5.0     1445.00  "
      ]
     },
     "metadata": {},
     "output_type": "display_data"
    },
    {
     "data": {
      "text/markdown": [
       "I have successfully added the 'TotalValue' column to your transaction data.\n",
       "For 'BUY' actions, 'TotalValue' is calculated as (Quantity * PricePerShare) + Commission.\n",
       "For 'SELL' actions, 'TotalValue' is calculated as (Quantity * PricePerShare) - Commission.\n",
       "\n",
       "The updated data, including the new 'TotalValue' column, has been saved to a CSV file named `transactions_with_total_value.csv`.\n"
      ],
      "text/plain": [
       "<IPython.core.display.Markdown object>"
      ]
     },
     "metadata": {},
     "output_type": "display_data"
    }
   ],
   "source": [
    "import pandas as pd\n",
    "from IPython.display import Markdown\n",
    "\n",
    "output_file = \"response.csv\"\n",
    "\n",
    "for part in response.candidates[0].content.parts:\n",
    "    if part.text:\n",
    "        display(Markdown(part.text))\n",
    "    if part.inline_data:\n",
    "        with open(output_file, \"wb\") as f:\n",
    "            f.write(part.inline_data.data)\n",
    "        display(Markdown(f\"CSV file saved to {output_file}\"))\n",
    "        display(Markdown(f\"Preview of the first few rows of the CSV file:\"))\n",
    "        display(pd.read_csv(output_file).head())\n",
    "        "
   ]
  },
  {
   "cell_type": "markdown",
   "metadata": {},
   "source": [
    "## Calculation & Aggregation:\n",
    "\n",
    "Goal: Determine overall cash flow and total costs from trading activities."
   ]
  },
  {
   "cell_type": "code",
   "execution_count": 4,
   "metadata": {},
   "outputs": [
    {
     "name": "stderr",
     "output_type": "stream",
     "text": [
      "Warning: there are non-text parts in the response: ['executable_code', 'code_execution_result', 'executable_code', 'code_execution_result'], returning concatenated text result from text parts. Check the full candidates.content.parts accessor to get the full model response.\n"
     ]
    },
    {
     "data": {
      "text/markdown": [
       "The financial analysis of your transactions is complete.\n",
       "\n",
       "Here is a summary of the key metrics:\n",
       "\n",
       "| Metric                             | Amount ($)   |\n",
       "|:-----------------------------------|:-------------|\n",
       "| Total Spent (BUY transactions)     | 31498.5      |\n",
       "| Total Received (SELL transactions) | 15800.4      |\n",
       "| Net Cash Flow (Received - Spent)   | -15698.1     |\n",
       "| Total Commission Paid              | 130          |"
      ],
      "text/plain": [
       "<IPython.core.display.Markdown object>"
      ]
     },
     "metadata": {},
     "output_type": "display_data"
    }
   ],
   "source": [
    "from IPython.display import Markdown\n",
    "\n",
    "prompt =  \"\"\"Calculate the total amount spent on 'BUY' transactions and the total amount received from 'SELL' transactions based on the 'TotalValue' column. Also, calculate the net cash flow (Total Received - Total Spent) and the total commission paid across all transactions. \n",
    "Return a helpful message and markdown table with the results.\"\"\"\n",
    "\n",
    "# Generate the response\n",
    "response = client.models.generate_content(\n",
    "    model=\"gemini-2.5-flash\",\n",
    "    contents=[file, prompt],\n",
    "    config={\"tools\": [{\"code_execution\": {}}]},\n",
    ")\n",
    "\n",
    "display(Markdown(response.text))\n"
   ]
  },
  {
   "cell_type": "markdown",
   "metadata": {},
   "source": [
    "## Data Visualization\n",
    "\n",
    "Goal: Visualize the trading volume (shares bought vs. sold) for each stock."
   ]
  },
  {
   "cell_type": "code",
   "execution_count": 5,
   "metadata": {},
   "outputs": [],
   "source": [
    "prompt =  \"\"\"Create a bar chart showing the total quantity of shares bought and sold for each stock ticker (AAPL, GOOG, MSFT, TSLA, NVDA). Use different colors for BUY and SELL actions. \n",
    "Return a helpful message and generate a matplotlib plot chart and save the plot as an image file\"\"\"\n",
    "\n",
    "# Generate the response\n",
    "response = client.models.generate_content(\n",
    "    model=\"gemini-2.5-flash\",\n",
    "    contents=[file, prompt],\n",
    "    config={\"tools\": [{\"code_execution\": {}}]},\n",
    ")"
   ]
  },
  {
   "cell_type": "code",
   "execution_count": 6,
   "metadata": {},
   "outputs": [
    {
     "data": {
      "image/png": "[encoded data removed]",
      "text/plain": [
       "<IPython.core.display.Image object>"
      ]
     },
     "metadata": {
      "image/png": {
       "width": 800
      }
     },
     "output_type": "display_data"
    },
    {
     "data": {
      "text/markdown": [
       "I have successfully generated a bar chart showing the total quantity of shares bought and sold for each of the specified stock tickers (AAPL, AMZN, GOOG, MSFT, NVDA, TSLA). The 'BUY' quantities are represented in skyblue, and 'SELL' quantities are in salmon for clear differentiation.\n",
       "\n",
       "The chart, titled \"Total Quantity of Shares Bought and Sold per Ticker,\" has been saved as `stock_transactions_quantity_barchart.png`. This visualization allows for a quick comparison of buying and selling activity across different stocks."
      ],
      "text/plain": [
       "<IPython.core.display.Markdown object>"
      ]
     },
     "metadata": {},
     "output_type": "display_data"
    }
   ],
   "source": [
    "from IPython.display import Image, Markdown\n",
    "\n",
    "# Print the results and display the plot\n",
    "for part in response.candidates[0].content.parts:\n",
    "    if part.text:\n",
    "        display(Markdown(part.text))\n",
    "    if part.inline_data:\n",
    "        display(Image(data=part.inline_data.data, width=800, format=\"png\"))"
   ]
  },
  {
   "cell_type": "code",
   "execution_count": null,
   "metadata": {},
   "outputs": [],
   "source": []
  }
 ],
 "metadata": {
  "kernelspec": {
   "display_name": ".venv",
   "language": "python",
   "name": "python3"
  },
  "language_info": {
   "codemirror_mode": {
    "name": "ipython",
    "version": 3
   },
   "file_extension": ".py",
   "mimetype": "text/x-python",
   "name": "python",
   "nbconvert_exporter": "python",
   "pygments_lexer": "ipython3",
   "version": "3.13.2"
  }
 },
 "nbformat": 4,
 "nbformat_minor": 2
}
