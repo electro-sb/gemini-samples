{
 "cells": [
  {
   "cell_type": "markdown",
   "metadata": {},
   "source": [
    "# Google Gemini: Precise File Editing\n",
    "\n",
    "This notebook demonstrates how to use Google's Gemini models for precise code and document editing tasks. We'll leverage Gemini's long context and instruction following ability to make targeted modifications using a diff-like format inspired by [Aider](https://github.com/paul-gauthier/aider).\n",
    "\n",
    "We'll use a `diff-fenced` format that clearly shows the changes to be made. The “diff-fenced” edit format asks the LLM to specify file edits as a series of search/replace blocks with the file path is placed inside the fence.\n",
    "\n",
    "```\n",
    "mathweb/flask/app.py\n",
    "<<<<<<< SEARCH\n",
    "from flask import Flask\n",
    "=======\n",
    "import math\n",
    "from flask import Flask\n",
    ">>>>>>> REPLACE\n",
    "```\n",
    "\n",
    "If you don't have an API key, you can get one for free from [Google AI Studio](https://aistudio.google.com/app/apikey).\n"
   ]
  },
  {
   "cell_type": "code",
   "execution_count": null,
   "metadata": {},
   "outputs": [],
   "source": [
    "!pip install google-genai"
   ]
  },
  {
   "cell_type": "code",
   "execution_count": 1,
   "metadata": {},
   "outputs": [],
   "source": [
    "import re \n",
    "from google import genai\n",
    "\n",
    "# create client\n",
    "client = genai.Client()\n",
    "model_id = \"gemini-2.5-pro\" # \"gemini-2.5-flash\"\n",
    "\n",
    "SYSTEM_PROMPT = \"\"\"\n",
    "You are an expert editing assistant. You are might receive or multiple files with user instruction to make changes to them using a diff-fenced format. \n",
    "\n",
    "Files are presented with their relative path followed by code fence markers and the complete file content:\n",
    "\n",
    "## How to make Edits (diff-fenced format):\n",
    "When making changes, you MUST use the SEARCH/REPLACE block format as follows:\n",
    "\n",
    "1. Basic Format Structure\n",
    "```diff\n",
    "filename.py\n",
    "<<<<<<< SEARCH  \n",
    "// original text that should be found and replaced  \n",
    "=======  \n",
    "// new text that will replace the original content  \n",
    ">>>>>>> REPLACE  \n",
    "```\n",
    "  \n",
    "2. Format Rules: \n",
    "- The first line must be a code fence opening marker (```diff)  \n",
    "- The second line must contain ONLY the file path, exactly as shown to you  \n",
    "- The SEARCH block must contain the exact content to be replaced  \n",
    "- The REPLACE block contains the new content  \n",
    "- End with a code fence closing marker (```)  \n",
    "- Include enough context in the SEARCH block to uniquely identify the section to change  \n",
    "- Keep SEARCH/REPLACE blocks concise - break large changes into multiple smaller blocks  \n",
    "- For multiple changes to the same file, use multiple SEARCH/REPLACE blocks  \n",
    "  \n",
    "3. **Creating New Files**: Use an empty SEARCH section:  \n",
    "\n",
    "```diff\n",
    "new_file.py\n",
    "<<<<<<< SEARCH  \n",
    "=======  \n",
    "# New file content goes here  \n",
    "def new_function():  \n",
    "    return \"Hello World\"  \n",
    ">>>>>>> REPLACE\n",
    "``` \n",
    "4. **Moving Content**: Use two SEARCH/REPLACE blocks:  1. One to delete content from its original location (empty REPLACE section). 2. One to add it to the new location (empty SEARCH section)  \n",
    "\n",
    "5. **Multiple Edits**: Present each edit as a separate SEARCH/REPLACE block  \n",
    "\n",
    "```diff\n",
    "math_utils.py\n",
    "<<<<<<< SEARCH  \n",
    "def factorial(n):  \n",
    "    if n == 0:  \n",
    "        return 1  \n",
    "    else:  \n",
    "        return n * factorial(n-1)  \n",
    "=======  \n",
    "import math  \n",
    "  \n",
    "def factorial(n):  \n",
    "    return math.factorial(n)  \n",
    ">>>>>>> REPLACE\n",
    "\n",
    "```diff\n",
    "app.py\n",
    "<<<<<<< SEARCH  \n",
    "from utils import helper  \n",
    "=======  \n",
    "from utils import helper  \n",
    "import math_utils  \n",
    ">>>>>>> REPLACE  \n",
    "  \n",
    "## Important Guidelines  \n",
    "  \n",
    "1. Always include the EXACT file path as shown in the context  \n",
    "2. Make sure the SEARCH block EXACTLY matches the existing content  \n",
    "3. Break large changes into multiple smaller, focused SEARCH/REPLACE blocks  \n",
    "4. Only edit files that have been added to the context  \n",
    "5. Explain your changes before presenting the SEARCH/REPLACE blocks  \n",
    "6. If you need to edit files not in the context, ask the user to add them first  \n",
    "  \n",
    "Following these instructions will ensure your edits can be properly applied to the document.  \n",
    "\"\"\"\n",
    "\n",
    "def apply_edits(original_text, diff_text):\n",
    "    \"\"\"Apply edits from a diff-fenced format to the original text\"\"\"\n",
    "    # Extract edit blocks from the diff-fenced format\n",
    "    pattern = r'```diff\\n(.*?)\\n<<<<<<< SEARCH\\n(.*?)=======\\n(.*?)>>>>>>> REPLACE\\n```'\n",
    "    edit_blocks = re.findall(pattern, diff_text, re.DOTALL)\n",
    "    \n",
    "    if not edit_blocks:\n",
    "        # Try without the code fences for direct input\n",
    "        pattern = r'(.*?)\\n<<<<<<< SEARCH\\n(.*?)=======\\n(.*?)>>>>>>> REPLACE'\n",
    "        edit_blocks = re.findall(pattern, diff_text, re.DOTALL)\n",
    "        \n",
    "    if not edit_blocks:\n",
    "        return original_text\n",
    "    \n",
    "    # Apply each edit block\n",
    "    result = original_text\n",
    "    for block in edit_blocks:\n",
    "        if len(block) == 3:\n",
    "            filename, search_text, replace_text = block\n",
    "            # Strip any leading/trailing whitespace\n",
    "            search_text = search_text.strip()\n",
    "            replace_text = replace_text.strip()\n",
    "            \n",
    "            # Replace the search text with the replace text\n",
    "            if search_text in result:\n",
    "                result = result.replace(search_text, replace_text)\n",
    "            else:\n",
    "                # If search text not found and it's empty, append the replace text\n",
    "                if not search_text.strip():\n",
    "                    result += '\\n' + replace_text\n",
    "    \n",
    "    return result\n"
   ]
  },
  {
   "cell_type": "code",
   "execution_count": 2,
   "metadata": {},
   "outputs": [],
   "source": [
    "# Instruction and file to edit\n",
    "instruction = \"Update the budget for phase 2 to 10% more\"\n",
    "file = \"../assets/Project_Chimera_Status_Report_Oct2023.md\"\n",
    "\n",
    "# Generate the edits based on the instruction\n",
    "response = client.models.generate_content(\n",
    "    model=model_id,\n",
    "    contents=f\"```{file}\\n{open(file).read()}\\n```\\n\\nInstruction: {instruction}\",\n",
    "    config={\n",
    "        \"system_instruction\":SYSTEM_PROMPT,    \n",
    "    },\n",
    "    \n",
    ")"
   ]
  },
  {
   "cell_type": "code",
   "execution_count": 3,
   "metadata": {},
   "outputs": [
    {
     "name": "stdout",
     "output_type": "stream",
     "text": [
      "Of course. I will update the Project Chimera status report to reflect the change in the Phase 2 budget variance.\n",
      "\n",
      "I am updating the Phase 2 budget variance mentioned in the \"Challenges and Risks\" section from 15% to 10% higher than the initial budget, as requested.\n",
      "\n",
      "```diff\n",
      "../assets/Project_Chimera_Status_Report_Oct2023.md\n",
      "<<<<<<< SEARCH\n",
      "*   **Phase 2 Budget Variance (Medium Risk):** Initial detailed cost estimates for Phase 2 cloud infrastructure and necessary third-party API licenses are tracking approximately 15% higher than the initial budget allocated.\n",
      "=======\n",
      "*   **Phase 2 Budget Variance (Medium Risk):** Initial detailed cost estimates for Phase 2 cloud infrastructure and necessary third-party API licenses are tracking approximately 10% higher than the initial budget allocated.\n",
      ">>>>>>> REPLACE\n",
      "```\n"
     ]
    }
   ],
   "source": [
    "print(response.text)"
   ]
  },
  {
   "cell_type": "code",
   "execution_count": 4,
   "metadata": {},
   "outputs": [],
   "source": [
    "# Apply the edits to the file\n",
    "with open(file, \"w\") as f:\n",
    "    applied_edits = apply_edits(open(file).read(), response.text)\n",
    "    f.write(applied_edits)"
   ]
  },
  {
   "cell_type": "code",
   "execution_count": 5,
   "metadata": {},
   "outputs": [
    {
     "name": "stdout",
     "output_type": "stream",
     "text": [
      "\n"
     ]
    }
   ],
   "source": [
    "print(open(file).read())"
   ]
  },
  {
   "cell_type": "code",
   "execution_count": null,
   "metadata": {},
   "outputs": [],
   "source": []
  }
 ],
 "metadata": {
  "kernelspec": {
   "display_name": ".venv",
   "language": "python",
   "name": "python3"
  },
  "language_info": {
   "codemirror_mode": {
    "name": "ipython",
    "version": 3
   },
   "file_extension": ".py",
   "mimetype": "text/x-python",
   "name": "python",
   "nbconvert_exporter": "python",
   "pygments_lexer": "ipython3",
   "version": "3.13.2"
  }
 },
 "nbformat": 4,
 "nbformat_minor": 2
}
