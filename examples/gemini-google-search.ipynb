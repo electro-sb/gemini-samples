{
 "cells": [
  {
   "cell_type": "markdown",
   "metadata": {},
   "source": [
    "# Google Gemini with Google Search\n",
    "\n",
    "Gemini 2.5 comes with native Google Search integration, allowing the model to access up-to-date information from the web. This is particularly useful for queries that require current information or external knowledge. By enabling Google Search, Gemini can provide more accurate and timely responses.\n",
    "\n",
    "Key features:\n",
    "- Simple to enable with one configuration change\n",
    "- Automatically searches when needed for up-to-date information\n",
    "- Supports 30+ languages\n",
    "- Free tier: 1,500 queries per day\n",
    "- Paid tier: $35 per 1,000 queries\n",
    "\n",
    "You can learn more about Google Search integration with Gemini here:\n",
    "[https://ai.google.dev/gemini-api/docs/google-search?lang=python](https://ai.google.dev/gemini-api/docs/google-search?lang=python)"
   ]
  },
  {
   "cell_type": "code",
   "execution_count": null,
   "metadata": {},
   "outputs": [],
   "source": [
    "%pip install google-genai"
   ]
  },
  {
   "cell_type": "code",
   "execution_count": 1,
   "metadata": {},
   "outputs": [
    {
     "name": "stdout",
     "output_type": "stream",
     "text": [
      "Response: Spain won the UEFA Euro 2024 tournament, defeating England 2-1 in the final held in Berlin on July 14, 2024. This victory marked Spain's record-breaking fourth European Championship title, making them the sole record-winners of the competition.\n",
      "\n",
      "Nico Williams and Mikel Oyarzabal scored the goals for Spain in the final. England's goal was scored by Cole Palmer. Spain had an impressive tournament run, winning all seven of their games and scoring 15 goals, a new record for the most goals in a single European Championship. Rodri was named the UEFA European Championship Player of the Tournament, and Lamine Yamal was named the UEFA Young Player of the Tournament.\n",
      "Search Query: ['who won Euro 2024', 'Euro 2024 winner']\n",
      "Search Pages: youtube.com, wikipedia.org, aljazeera.com, foxsports.com, wikipedia.org, uefa.com, uefa.com\n"
     ]
    }
   ],
   "source": [
    "from google import genai\n",
    "\n",
    "client = genai.Client()\n",
    "\n",
    "response = client.models.generate_content(\n",
    "    model='gemini-2.5-flash',\n",
    "    contents='Who won the Euro 2024?',\n",
    "    config={\"tools\": [{\"google_search\": {}}]},\n",
    ")\n",
    "\n",
    "# print the response\n",
    "print(f\"Response: {response.text}\")\n",
    "# print the search details\n",
    "print(f\"Search Query: {response.candidates[0].grounding_metadata.web_search_queries}\")\n",
    "# urls used for grounding\n",
    "print(f\"Search Pages: {', '.join([site.web.title for site in response.candidates[0].grounding_metadata.grounding_chunks])}\")\n"
   ]
  },
  {
   "cell_type": "markdown",
   "metadata": {},
   "source": [
    "more complex example with multiple queries"
   ]
  },
  {
   "cell_type": "code",
   "execution_count": 3,
   "metadata": {},
   "outputs": [
    {
     "name": "stdout",
     "output_type": "stream",
     "text": [
      "Response: Brazil has won more FIFA World Cups than Germany. Brazil holds the record with five World Cup titles, while Germany has won the tournament four times.\n",
      "Search Query: ['how many world cups has germany won', 'how many world cups has brazil won']\n",
      "Search Pages: olympics.com, topendsports.com, olympics.com, sportingnews.com, wikipedia.org, wikipedia.org, bestonlinebettingsites.co.uk, sportsboom.com\n"
     ]
    }
   ],
   "source": [
    "# Generate a list of cookie recipes\n",
    "response = client.models.generate_content(\n",
    "    model='gemini-2.5-flash',\n",
    "    contents='Who won more World Cups, Germany or Brazil?',\n",
    "    config={\"tools\": [{\"google_search\": {}}]},\n",
    ")\n",
    "\n",
    "# print the response\n",
    "print(f\"Response: {response.text}\")\n",
    "# print the search details\n",
    "print(f\"Search Query: {response.candidates[0].grounding_metadata.web_search_queries}\")\n",
    "# urls used for grounding\n",
    "print(f\"Search Pages: {', '.join([site.web.title for site in response.candidates[0].grounding_metadata.grounding_chunks])}\")\n"
   ]
  },
  {
   "cell_type": "code",
   "execution_count": null,
   "metadata": {},
   "outputs": [],
   "source": []
  }
 ],
 "metadata": {
  "kernelspec": {
   "display_name": ".venv",
   "language": "python",
   "name": "python3"
  },
  "language_info": {
   "codemirror_mode": {
    "name": "ipython",
    "version": 3
   },
   "file_extension": ".py",
   "mimetype": "text/x-python",
   "name": "python",
   "nbconvert_exporter": "python",
   "pygments_lexer": "ipython3",
   "version": "3.13.2"
  }
 },
 "nbformat": 4,
 "nbformat_minor": 2
}
